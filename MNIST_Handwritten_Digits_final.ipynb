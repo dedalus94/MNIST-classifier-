{
 "cells": [
  {
   "cell_type": "markdown",
   "metadata": {},
   "source": [
    "# Introduction\n",
    "\n",
    "In this project, you will build a neural network of your own design to evaluate the MNIST dataset.\n",
    "\n",
    "Some of the benchmark results on MNIST include can be found [on Yann LeCun's page](http://yann.lecun.com/exdb/mnist/) and include:\n",
    "\n",
    "88% [Lecun et al., 1998](http://yann.lecun.com/exdb/publis/pdf/lecun-98.pdf)\n",
    "95.3% [Lecun et al., 1998](http://yann.lecun.com/exdb/publis/pdf/lecun-98.pdf)\n",
    "99.65% [Ciresan et al., 2011](http://people.idsia.ch/~juergen/ijcai2011.pdf)\n",
    "\n",
    "MNIST is a great dataset for sanity checking your models, since the accuracy levels achieved by large convolutional neural networks and small linear models are both quite high. This makes it important to be familiar with the data.\n",
    "\n",
    "## Imports"
   ]
  },
  {
   "cell_type": "code",
   "execution_count": 1,
   "metadata": {},
   "outputs": [],
   "source": [
    "## This cell contains the essential imports you will need – DO NOT CHANGE THE CONTENTS! ##\n",
    "import torch\n",
    "import torch.nn as nn\n",
    "import torch.nn.functional as F\n",
    "import torch.optim as optim\n",
    "import torchvision\n",
    "import torchvision.transforms as transforms\n",
    "import matplotlib.pyplot as plt\n",
    "from torchvision import datasets\n",
    "from torch.utils.data import DataLoader\n",
    "import numpy as np\n",
    "from torch.utils.tensorboard import SummaryWriter"
   ]
  },
  {
   "cell_type": "markdown",
   "metadata": {},
   "source": [
    "## Load the Dataset\n",
    "\n",
    "Specify your transforms as a list if you intend to .\n",
    "The transforms module is already loaded as `transforms`.\n",
    "\n",
    "MNIST is fortunately included in the torchvision module.\n",
    "Then, you can create your dataset using the `MNIST` object from `torchvision.datasets` ([the documentation is available here](https://pytorch.org/vision/stable/datasets.html#mnist)).\n",
    "Make sure to specify `download=True`! \n",
    "\n",
    "Once your dataset is created, you'll also need to define a `DataLoader` from the `torch.utils.data` module for both the train and the test set."
   ]
  },
  {
   "cell_type": "code",
   "execution_count": 2,
   "metadata": {},
   "outputs": [],
   "source": [
    "def get_mean_std(dataloader):\n",
    "\n",
    "    mean=np.array([x[0].mean() for x in dataloader]).mean()\n",
    "    std=np.array([x[0].std() for x in dataloader]).std()\n",
    "    \n",
    "    return mean,std"
   ]
  },
  {
   "cell_type": "code",
   "execution_count": 3,
   "metadata": {},
   "outputs": [],
   "source": [
    "### load the data first so that the mean and the std can be calculated\n",
    "\n",
    "\n",
    "\n",
    "\n",
    "def get_data(is_train=True):\n",
    "\n",
    "    data = datasets.MNIST('../mnist_data', \n",
    "                         download=True, \n",
    "                         train=is_train,\n",
    "                         transform=transforms.ToTensor())\n",
    "    \n",
    "    data = datasets.MNIST(root=\"data\",\n",
    "                   download=True,\n",
    "                   train=is_train,\n",
    "                   transform=transforms.Compose([transforms.ToTensor(), \n",
    "                                                 transforms.Normalize(get_mean_std(data)[0],\n",
    "                                                                      get_mean_std(data)[1],\n",
    "                                                                      inplace=True)]))\n",
    "\n",
    "    return data\n"
   ]
  },
  {
   "cell_type": "code",
   "execution_count": 4,
   "metadata": {},
   "outputs": [],
   "source": [
    "train_length= int(0.8*60000)\n",
    "val_length= int(0.2*60000)\n",
    "test_length= 10000"
   ]
  },
  {
   "cell_type": "code",
   "execution_count": 5,
   "metadata": {},
   "outputs": [
    {
     "name": "stderr",
     "output_type": "stream",
     "text": [
      "/opt/conda/lib/python3.7/site-packages/torchvision/datasets/mnist.py:498: UserWarning: The given NumPy array is not writable, and PyTorch does not support non-writable tensors. This means writing to this tensor will result in undefined behavior. You may want to copy the array to protect its data or make it writable before converting it to a tensor. This type of warning will be suppressed for the rest of this program. (Triggered internally at  ../torch/csrc/utils/tensor_numpy.cpp:178.)\n",
      "  return torch.from_numpy(parsed.astype(m[2], copy=False)).view(*s)\n"
     ]
    }
   ],
   "source": [
    "train_subset, val_subset = torch.utils.data.random_split(get_data(is_train=True), \n",
    "                                                         [train_length, val_length], \n",
    "                                                         generator=torch.Generator().manual_seed(42))\n",
    "\n",
    "\n",
    "train_loader = torch.utils.data.DataLoader(dataset=train_subset,\n",
    "                                           shuffle=True,\n",
    "                                           batch_size=64)\n",
    "\n",
    "val_loader = torch.utils.data.DataLoader(dataset=val_subset, \n",
    "                                         shuffle=False, \n",
    "                                         batch_size=64)\n",
    "\n",
    "# Get test data\n",
    "\n",
    "test_loader = torch.utils.data.DataLoader(get_data(is_train=False),\n",
    "                                          batch_size=64)\n",
    "                                            \n",
    "\n"
   ]
  },
  {
   "cell_type": "markdown",
   "metadata": {},
   "source": [
    "### Summary of datasets: "
   ]
  },
  {
   "cell_type": "code",
   "execution_count": 6,
   "metadata": {},
   "outputs": [
    {
     "name": "stdout",
     "output_type": "stream",
     "text": [
      "train dataset: length 48000 \n",
      "\n",
      "validation dataset: length 12000 \n",
      "\n",
      "test dataset:\n",
      " Dataset MNIST\n",
      "    Number of datapoints: 10000\n",
      "    Root location: data\n",
      "    Split: Test\n",
      "    StandardTransform\n",
      "Transform: Compose(\n",
      "               ToTensor()\n",
      "               Normalize(mean=0.1325145959854126, std=0.047720760107040405)\n",
      "           )\n"
     ]
    }
   ],
   "source": [
    "print(\"train dataset: length\",len(train_loader.dataset),'\\n')\n",
    "print(\"validation dataset: length\",len(val_loader.dataset),'\\n')\n",
    "print(\"test dataset:\\n\",test_loader.dataset)"
   ]
  },
  {
   "cell_type": "markdown",
   "metadata": {},
   "source": [
    "## Preprocessing \n",
    "\n",
    "At the preprocessing stage it was not necessary to introduce transformations in order to prevent overfitting. \n",
    "Also, transformations such as random flipping could hurt the accuracy of the model, since we are classifying numbers.\n",
    "Given that I was satisfied with the reached accuracy of ~98%, I did not try to intruduce any augmentation of the training set."
   ]
  },
  {
   "cell_type": "markdown",
   "metadata": {},
   "source": [
    "## Explore the Dataset\n"
   ]
  },
  {
   "cell_type": "code",
   "execution_count": 7,
   "metadata": {},
   "outputs": [],
   "source": [
    "## This cell contains a function for showing 5 images from a dataloader – DO NOT CHANGE THE CONTENTS! ##\n",
    "def show5(img_loader):\n",
    "    dataiter = iter(img_loader)\n",
    "    \n",
    "    batch = next(dataiter)\n",
    "    labels = batch[1][0:5]\n",
    "    images = batch[0][0:5]\n",
    "    for i in range(5):\n",
    "        print(int(labels[i].detach()))\n",
    "    \n",
    "        image = images[i].numpy()\n",
    "        #print(images[i])\n",
    "        #print(image.mode)\n",
    "        plt.imshow(image.T.squeeze().T)\n",
    "        plt.show()"
   ]
  },
  {
   "cell_type": "code",
   "execution_count": 8,
   "metadata": {},
   "outputs": [
    {
     "name": "stdout",
     "output_type": "stream",
     "text": [
      "7\n"
     ]
    },
    {
     "data": {
      "image/png": "[encoded data removed]",
      "text/plain": [
       "<Figure size 432x288 with 1 Axes>"
      ]
     },
     "metadata": {
      "needs_background": "light"
     },
     "output_type": "display_data"
    },
    {
     "name": "stdout",
     "output_type": "stream",
     "text": [
      "2\n"
     ]
    },
    {
     "data": {
      "image/png": "[encoded data removed]",
      "text/plain": [
       "<Figure size 432x288 with 1 Axes>"
      ]
     },
     "metadata": {
      "needs_background": "light"
     },
     "output_type": "display_data"
    },
    {
     "name": "stdout",
     "output_type": "stream",
     "text": [
      "1\n"
     ]
    },
    {
     "data": {
      "image/png": "[encoded data removed]",
      "text/plain": [
       "<Figure size 432x288 with 1 Axes>"
      ]
     },
     "metadata": {
      "needs_background": "light"
     },
     "output_type": "display_data"
    },
    {
     "name": "stdout",
     "output_type": "stream",
     "text": [
      "0\n"
     ]
    },
    {
     "data": {
      "image/png": "[encoded data removed]",
      "text/plain": [
       "<Figure size 432x288 with 1 Axes>"
      ]
     },
     "metadata": {
      "needs_background": "light"
     },
     "output_type": "display_data"
    },
    {
     "name": "stdout",
     "output_type": "stream",
     "text": [
      "4\n"
     ]
    },
    {
     "data": {
      "image/png": "[encoded data removed]",
      "text/plain": [
       "<Figure size 432x288 with 1 Axes>"
      ]
     },
     "metadata": {
      "needs_background": "light"
     },
     "output_type": "display_data"
    }
   ],
   "source": [
    "# Explore data\n",
    "show5(test_loader)"
   ]
  },
  {
   "cell_type": "markdown",
   "metadata": {},
   "source": [
    "## Architecture\n"
   ]
  },
  {
   "cell_type": "markdown",
   "metadata": {},
   "source": [
    "I played around with different configurations. Increasing the number of hidden layers and neurons in each layers does not seem to help pushing accuracy beyond 98% on the validation set. \n",
    "\n",
    "For this reason I chose a simple architecture and added dropuout of neurons to prevent overfitting. "
   ]
  },
  {
   "cell_type": "code",
   "execution_count": 9,
   "metadata": {},
   "outputs": [],
   "source": [
    "# Define the class for your neural network\n",
    "class Net(nn.Module):\n",
    "    def __init__(self):\n",
    "        super().__init__()\n",
    "        self.activation = F.relu\n",
    "        self.dropout = nn.Dropout(0.25) \n",
    "        self.layer1 = nn.Linear(28*28,300)\n",
    "        self.layer2 = nn.Linear(300,100)\n",
    "        self.layer3 = nn.Linear(100,10)\n",
    "\n",
    "\n",
    "    def forward(self, x):\n",
    "        x = torch.flatten(x, 1) # flatten all dimensions except batch\n",
    "        x = self.dropout(x)\n",
    "        x = self.activation(self.layer1(x))\n",
    "        x = self.dropout(x)\n",
    "        x = self.activation(self.layer2(x))\n",
    "        x = self.dropout(x)\n",
    "        \n",
    "        return self.layer3(x)\n",
    "\n"
   ]
  },
  {
   "cell_type": "markdown",
   "metadata": {},
   "source": [
    "## Running the Neural Network\n"
   ]
  },
  {
   "cell_type": "code",
   "execution_count": 10,
   "metadata": {
    "scrolled": false
   },
   "outputs": [
    {
     "name": "stdout",
     "output_type": "stream",
     "text": [
      "Epoch 1 training accuracy: 0.89% training loss: 0.3698868486980597\n",
      "Epoch 1 validation accuracy: 0.95% validation loss: 0.17376894439431897\n",
      "Epoch 2 training accuracy: 0.93% training loss: 0.23323545028765996\n",
      "Epoch 2 validation accuracy: 0.96% validation loss: 0.13987867417249908\n",
      "Epoch 3 training accuracy: 0.94% training loss: 0.19858242709189652\n",
      "Epoch 3 validation accuracy: 0.96% validation loss: 0.12228759338564062\n",
      "Epoch 4 training accuracy: 0.95% training loss: 0.18277657264471053\n",
      "Epoch 4 validation accuracy: 0.97% validation loss: 0.11888720248726771\n",
      "Epoch 5 training accuracy: 0.95% training loss: 0.18043947409838437\n",
      "Epoch 5 validation accuracy: 0.97% validation loss: 0.11830375288078125\n",
      "Epoch 6 training accuracy: 0.95% training loss: 0.1645344877919803\n",
      "Epoch 6 validation accuracy: 0.97% validation loss: 0.11721535270260845\n",
      "Epoch 7 training accuracy: 0.95% training loss: 0.15785759307257832\n",
      "Epoch 7 validation accuracy: 0.97% validation loss: 0.11316082838110308\n",
      "Epoch 8 training accuracy: 0.96% training loss: 0.1526009942367673\n",
      "Epoch 8 validation accuracy: 0.97% validation loss: 0.10586033680258279\n",
      "Epoch 9 training accuracy: 0.96% training loss: 0.14929061481232445\n",
      "Epoch 9 validation accuracy: 0.97% validation loss: 0.1035272115618585\n",
      "Epoch 10 training accuracy: 0.96% training loss: 0.1509872213775913\n",
      "Epoch 10 validation accuracy: 0.97% validation loss: 0.11388933942950469\n",
      "Epoch 11 training accuracy: 0.96% training loss: 0.15309870357749364\n",
      "Epoch 11 validation accuracy: 0.97% validation loss: 0.10362304219272622\n",
      "Epoch 12 training accuracy: 0.96% training loss: 0.14319767199456693\n",
      "Epoch 12 validation accuracy: 0.97% validation loss: 0.1091172594101505\n",
      "Epoch 13 training accuracy: 0.96% training loss: 0.1355479137348011\n",
      "Epoch 13 validation accuracy: 0.97% validation loss: 0.10995022859238583\n",
      "Epoch 14 training accuracy: 0.96% training loss: 0.1418378340289152\n",
      "Epoch 14 validation accuracy: 0.97% validation loss: 0.10423723917251373\n",
      "Epoch 15 training accuracy: 0.96% training loss: 0.14101027571720381\n",
      "Epoch 15 validation accuracy: 0.97% validation loss: 0.11520778125602792\n",
      "Epoch 16 training accuracy: 0.96% training loss: 0.1360820999443531\n",
      "Epoch 16 validation accuracy: 0.97% validation loss: 0.09967498614779732\n",
      "Epoch 17 training accuracy: 0.96% training loss: 0.13237668528609597\n",
      "Epoch 17 validation accuracy: 0.98% validation loss: 0.10353785284740374\n",
      "Epoch 18 training accuracy: 0.96% training loss: 0.12859925291516508\n",
      "Epoch 18 validation accuracy: 0.97% validation loss: 0.10373361869170232\n",
      "Epoch 19 training accuracy: 0.96% training loss: 0.13819743990680824\n",
      "Epoch 19 validation accuracy: 0.97% validation loss: 0.10286910343169671\n",
      "Epoch 20 training accuracy: 0.96% training loss: 0.1288751883826529\n",
      "Epoch 20 validation accuracy: 0.97% validation loss: 0.10917763043525679\n"
     ]
    }
   ],
   "source": [
    "def training(num_epochs,optimizer,criterion,net,train_loader,val_loader,train_length,val_length):\n",
    "    \n",
    "    #check for GPU \n",
    "    if torch.cuda.is_available():\n",
    "        # move tensor to CUDA\n",
    "        device = torch.device(\"cuda\")\n",
    "        \n",
    "    else:\n",
    "        device = torch.device(\"cpu\")\n",
    "\n",
    "    net=net.to(device)\n",
    "    \n",
    "    \n",
    "    \n",
    "    #keep track of train and val loss:\n",
    "    train_loss_history = list()\n",
    "    val_loss_history = list()\n",
    "\n",
    "    \n",
    "    for epoch in range(num_epochs):\n",
    "        \n",
    "        net.train() # TRAIN MODE\n",
    "\n",
    "        train_loss = 0.0\n",
    "        train_correct = 0\n",
    "\n",
    "        for i, data in enumerate(train_loader):\n",
    "\n",
    "            \n",
    "            # data is a list of [inputs, labels]\n",
    "            inputs, labels = data\n",
    "            inputs, labels = inputs.to(device), labels.to(device) \n",
    "\n",
    "            # Zero out the gradients of the optimizer\n",
    "            optimizer.zero_grad()\n",
    "\n",
    "\n",
    "            # Get the outputs of your model and compute your loss\n",
    "            outputs = net(inputs)\n",
    "            loss = criterion(outputs,labels)\n",
    "            \n",
    "            # Compute the loss gradient using the backward method and have the optimizer take a step\n",
    "            loss.backward()\n",
    "          \n",
    "            \n",
    "            # actually updates the weights, taking into account the learn rate and momentum:\n",
    "            optimizer.step()\n",
    "\n",
    "            # Compute the accuracy and print the accuracy and loss\n",
    "            _, preds = torch.max(outputs.data, 1)\n",
    "            train_correct += (preds == labels).sum().item()\n",
    "            train_loss += loss.item()\n",
    "        \n",
    "        \"\"\"\n",
    "        In order to calculate the loss, given that loss.item() returns the running loss for the batch\n",
    "        (it is already the mean of the loss for the batch) the cumulative sum has to be divided by the number of batches.\n",
    "        \"\"\"\n",
    "        \n",
    "        \n",
    "        print(f'Epoch {epoch + 1} training accuracy: {train_correct/train_length:.2f}% training loss: {train_loss/len(train_loader)}')\n",
    "        train_loss_history.append(train_loss/len(train_loader))\n",
    "\n",
    "        \n",
    "        ## Validation step... \n",
    "        \n",
    "        with torch.no_grad():\n",
    "        \n",
    "            # Validation step \n",
    "            val_loss = 0.0\n",
    "            val_correct = 0\n",
    "\n",
    "            #validation mode\n",
    "            net.eval()\n",
    "            for inputs, labels in val_loader:\n",
    "\n",
    "                inputs, labels = inputs.to(device), labels.to(device)\n",
    "\n",
    "                outputs = net(inputs).to(device)\n",
    "                loss = criterion(outputs, labels)\n",
    "\n",
    "                _, preds = torch.max(outputs.data, 1)\n",
    "                val_correct += (preds == labels).sum().item()\n",
    "                val_loss += loss.item()\n",
    "\n",
    "\n",
    "            print(f'Epoch {epoch + 1} validation accuracy: {val_correct/val_length:.2f}% validation loss: {val_loss/len(val_loader)}')\n",
    "            val_loss_history.append(val_loss/len(val_loader))\n",
    "\n",
    "\n",
    "    return net, train_loss_history, val_loss_history\n",
    "\n",
    "net = Net()\n",
    "optimizer = optim.Adam(net.parameters(), lr= 0.0015)\n",
    "criterion = nn.CrossEntropyLoss()\n",
    "\n",
    "\n",
    "epochs=20\n",
    "net, train_loss_history, val_loss_history = training(epochs,\n",
    "                                                     optimizer,\n",
    "                                                     criterion,\n",
    "                                                     net,\n",
    "                                                     train_loader,\n",
    "                                                     val_loader,\n",
    "                                                     train_length,\n",
    "                                                     val_length,\n",
    "                                                     )    \n",
    "    "
   ]
  },
  {
   "cell_type": "code",
   "execution_count": 12,
   "metadata": {},
   "outputs": [
    {
     "data": {
      "image/png": "[encoded data removed]",
      "text/plain": [
       "<Figure size 432x288 with 1 Axes>"
      ]
     },
     "metadata": {
      "needs_background": "light"
     },
     "output_type": "display_data"
    }
   ],
   "source": [
    "# Plot the training and validation loss history\n",
    "plt.plot(train_loss_history, label=\"Training Loss\")\n",
    "plt.plot(val_loss_history, label=\"Validation Loss\")\n",
    "plt.legend()\n",
    "plt.show()"
   ]
  },
  {
   "cell_type": "markdown",
   "metadata": {},
   "source": [
    "Based on the previous chart it is clear that the model is not overfitting. "
   ]
  },
  {
   "cell_type": "markdown",
   "metadata": {},
   "source": [
    "## Testing  model\n"
   ]
  },
  {
   "cell_type": "code",
   "execution_count": 21,
   "metadata": {},
   "outputs": [],
   "source": [
    "def test_model(net,test_loader,test_length):\n",
    "    \n",
    "    \"\"\"testing the model on testing data that has not been used during training.\"\"\"\n",
    "    \n",
    "    #check for GPU \n",
    "    if torch.cuda.is_available():\n",
    "        # move tensor to CUDA\n",
    "        device = torch.device(\"cuda\")\n",
    "        \n",
    "    else:\n",
    "        device = torch.device(\"cpu\")\n",
    "\n",
    "    net=net.to(device)\n",
    "    test_correct = 0\n",
    "    \n",
    "    for inputs, labels in test_loader:\n",
    "\n",
    "        inputs, labels = inputs.to(device), labels.to(device)\n",
    "\n",
    "        outputs = net(inputs).to(device)\n",
    "        loss = criterion(outputs, labels)\n",
    "\n",
    "        _, preds = torch.max(outputs.data, 1)\n",
    "        test_correct += (preds == labels).sum().item()\n",
    "        \n",
    "        \n",
    "        \n",
    "    \n",
    "    print(f'test accuracy: {test_correct/test_length:.3f}')\n",
    "    return round(test_correct/test_length,3)"
   ]
  },
  {
   "cell_type": "code",
   "execution_count": 22,
   "metadata": {
    "scrolled": false
   },
   "outputs": [
    {
     "name": "stdout",
     "output_type": "stream",
     "text": [
      "test accuracy: 0.977\n"
     ]
    }
   ],
   "source": [
    "accuracy=test_model(net,test_loader,test_length)"
   ]
  },
  {
   "cell_type": "markdown",
   "metadata": {},
   "source": [
    "### check random predictions vs labels:"
   ]
  },
  {
   "cell_type": "code",
   "execution_count": 15,
   "metadata": {},
   "outputs": [],
   "source": [
    "def show_and_test(img_loader):\n",
    "    \n",
    "    \n",
    "    \n",
    "    dataiter = iter(img_loader)\n",
    "    \n",
    "    batch = next(dataiter)\n",
    "    labels = batch[1][0:5]\n",
    "    images = batch[0][0:5]\n",
    "    \n",
    "\n",
    "    outputs = net(images.to(torch.device(\"cuda\")))\n",
    "    _, preds = torch.max(outputs.data, 1)\n",
    "    \n",
    "    for i in range(5):\n",
    "        \n",
    "        print(\"prediction:\",preds[i].item(),\"label:\",int(labels[i].detach()))\n",
    "    "
   ]
  },
  {
   "cell_type": "code",
   "execution_count": 16,
   "metadata": {},
   "outputs": [
    {
     "name": "stdout",
     "output_type": "stream",
     "text": [
      "prediction: 7 label: 7\n",
      "prediction: 2 label: 2\n",
      "prediction: 1 label: 1\n",
      "prediction: 0 label: 0\n",
      "prediction: 4 label: 4\n"
     ]
    }
   ],
   "source": [
    "show_and_test(test_loader)"
   ]
  },
  {
   "cell_type": "markdown",
   "metadata": {},
   "source": [
    "### Show misclassified images:"
   ]
  },
  {
   "cell_type": "code",
   "execution_count": 23,
   "metadata": {},
   "outputs": [],
   "source": [
    "def show_errors(img_loader):\n",
    "    \n",
    "    for batch in img_loader:\n",
    "        \n",
    "        labels = batch[1]\n",
    "        images = batch[0]\n",
    "        \n",
    "        outputs = net(images.to(torch.device(\"cuda\")))\n",
    "        _, preds = torch.max(outputs.data, 1)\n",
    "        \n",
    "        for i in range(len(batch)):\n",
    "            \n",
    "            if preds[i]!=labels[i]:\n",
    "                        \n",
    "                        print(\"prediction:\",preds[i].item(),\"label:\",labels[i].item())\n",
    "                        image = images[i].numpy()\n",
    "                        plt.imshow(image.T.squeeze().T)\n",
    "                        plt.show()\n",
    "            else:\n",
    "                pass\n",
    "                "
   ]
  },
  {
   "cell_type": "code",
   "execution_count": 24,
   "metadata": {
    "scrolled": false
   },
   "outputs": [
    {
     "name": "stdout",
     "output_type": "stream",
     "text": [
      "prediction: 7 label: 2\n"
     ]
    },
    {
     "data": {
      "image/png": "[encoded data removed]",
      "text/plain": [
       "<Figure size 432x288 with 1 Axes>"
      ]
     },
     "metadata": {
      "needs_background": "light"
     },
     "output_type": "display_data"
    },
    {
     "name": "stdout",
     "output_type": "stream",
     "text": [
      "prediction: 9 label: 5\n"
     ]
    },
    {
     "data": {
      "image/png": "[encoded data removed]",
      "text/plain": [
       "<Figure size 432x288 with 1 Axes>"
      ]
     },
     "metadata": {
      "needs_background": "light"
     },
     "output_type": "display_data"
    },
    {
     "name": "stdout",
     "output_type": "stream",
     "text": [
      "prediction: 1 label: 2\n"
     ]
    },
    {
     "data": {
      "image/png": "[encoded data removed]",
      "text/plain": [
       "<Figure size 432x288 with 1 Axes>"
      ]
     },
     "metadata": {
      "needs_background": "light"
     },
     "output_type": "display_data"
    },
    {
     "name": "stdout",
     "output_type": "stream",
     "text": [
      "prediction: 2 label: 1\n"
     ]
    },
    {
     "data": {
      "image/png": "[encoded data removed]",
      "text/plain": [
       "<Figure size 432x288 with 1 Axes>"
      ]
     },
     "metadata": {
      "needs_background": "light"
     },
     "output_type": "display_data"
    },
    {
     "name": "stdout",
     "output_type": "stream",
     "text": [
      "prediction: 4 label: 6\n"
     ]
    },
    {
     "data": {
      "image/png": "[encoded data removed]",
      "text/plain": [
       "<Figure size 432x288 with 1 Axes>"
      ]
     },
     "metadata": {
      "needs_background": "light"
     },
     "output_type": "display_data"
    },
    {
     "name": "stdout",
     "output_type": "stream",
     "text": [
      "prediction: 8 label: 5\n"
     ]
    },
    {
     "data": {
      "image/png": "[encoded data removed]",
      "text/plain": [
       "<Figure size 432x288 with 1 Axes>"
      ]
     },
     "metadata": {
      "needs_background": "light"
     },
     "output_type": "display_data"
    },
    {
     "name": "stdout",
     "output_type": "stream",
     "text": [
      "prediction: 7 label: 9\n"
     ]
    },
    {
     "data": {
      "image/png": "[encoded data removed]",
      "text/plain": [
       "<Figure size 432x288 with 1 Axes>"
      ]
     },
     "metadata": {
      "needs_background": "light"
     },
     "output_type": "display_data"
    },
    {
     "name": "stdout",
     "output_type": "stream",
     "text": [
      "prediction: 7 label: 2\n"
     ]
    },
    {
     "data": {
      "image/png": "[encoded data removed]",
      "text/plain": [
       "<Figure size 432x288 with 1 Axes>"
      ]
     },
     "metadata": {
      "needs_background": "light"
     },
     "output_type": "display_data"
    },
    {
     "name": "stdout",
     "output_type": "stream",
     "text": [
      "prediction: 0 label: 4\n"
     ]
    },
    {
     "data": {
      "image/png": "[encoded data removed]",
      "text/plain": [
       "<Figure size 432x288 with 1 Axes>"
      ]
     },
     "metadata": {
      "needs_background": "light"
     },
     "output_type": "display_data"
    },
    {
     "name": "stdout",
     "output_type": "stream",
     "text": [
      "prediction: 7 label: 3\n"
     ]
    },
    {
     "data": {
      "image/png": "[encoded data removed]",
      "text/plain": [
       "<Figure size 432x288 with 1 Axes>"
      ]
     },
     "metadata": {
      "needs_background": "light"
     },
     "output_type": "display_data"
    },
    {
     "name": "stdout",
     "output_type": "stream",
     "text": [
      "prediction: 2 label: 7\n"
     ]
    },
    {
     "data": {
      "image/png": "[encoded data removed]",
      "text/plain": [
       "<Figure size 432x288 with 1 Axes>"
      ]
     },
     "metadata": {
      "needs_background": "light"
     },
     "output_type": "display_data"
    },
    {
     "name": "stdout",
     "output_type": "stream",
     "text": [
      "prediction: 7 label: 2\n"
     ]
    },
    {
     "data": {
      "image/png": "[encoded data removed]",
      "text/plain": [
       "<Figure size 432x288 with 1 Axes>"
      ]
     },
     "metadata": {
      "needs_background": "light"
     },
     "output_type": "display_data"
    },
    {
     "name": "stdout",
     "output_type": "stream",
     "text": [
      "prediction: 6 label: 5\n"
     ]
    },
    {
     "data": {
      "image/png": "[encoded data removed]",
      "text/plain": [
       "<Figure size 432x288 with 1 Axes>"
      ]
     },
     "metadata": {
      "needs_background": "light"
     },
     "output_type": "display_data"
    }
   ],
   "source": [
    "show_errors(test_loader)"
   ]
  },
  {
   "cell_type": "code",
   "execution_count": 25,
   "metadata": {},
   "outputs": [],
   "source": [
    "state={\n",
    "    \n",
    "'epochs':epochs,\n",
    "'model': net.state_dict(),\n",
    "'best accuracy':f'{accuracy*100}%',\n",
    "'optimizer':optimizer.state_dict()\n",
    "}\n",
    "\n",
    "\n",
    "torch.save(state,'model')"
   ]
  },
  {
   "cell_type": "code",
   "execution_count": null,
   "metadata": {},
   "outputs": [],
   "source": []
  }
 ],
 "metadata": {
  "kernelspec": {
   "display_name": "Python 3",
   "language": "python",
   "name": "python3"
  },
  "language_info": {
   "codemirror_mode": {
    "name": "ipython",
    "version": 3
   },
   "file_extension": ".py",
   "mimetype": "text/x-python",
   "name": "python",
   "nbconvert_exporter": "python",
   "pygments_lexer": "ipython3",
   "version": "3.7.6"
  }
 },
 "nbformat": 4,
 "nbformat_minor": 4
}
