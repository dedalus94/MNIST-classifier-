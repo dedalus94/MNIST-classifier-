{
 "cells": [
  {
   "cell_type": "markdown",
   "metadata": {},
   "source": [
    "# Introduction\n",
    "\n",
    "In this project, you will build a neural network of your own design to evaluate the MNIST dataset.\n",
    "\n",
    "Some of the benchmark results on MNIST include can be found [on Yann LeCun's page](http://yann.lecun.com/exdb/mnist/) and include:\n",
    "\n",
    "88% [Lecun et al., 1998](http://yann.lecun.com/exdb/publis/pdf/lecun-98.pdf)\n",
    "95.3% [Lecun et al., 1998](http://yann.lecun.com/exdb/publis/pdf/lecun-98.pdf)\n",
    "99.65% [Ciresan et al., 2011](http://people.idsia.ch/~juergen/ijcai2011.pdf)\n",
    "\n",
    "MNIST is a great dataset for sanity checking your models, since the accuracy levels achieved by large convolutional neural networks and small linear models are both quite high. This makes it important to be familiar with the data.\n",
    "\n",
    "## Imports"
   ]
  },
  {
   "cell_type": "code",
   "execution_count": 1,
   "metadata": {},
   "outputs": [],
   "source": [
    "## This cell contains the essential imports you will need – DO NOT CHANGE THE CONTENTS! ##\n",
    "import torch\n",
    "import torch.nn as nn\n",
    "import torch.nn.functional as F\n",
    "import torch.optim as optim\n",
    "import torchvision\n",
    "import torchvision.transforms as transforms\n",
    "import matplotlib.pyplot as plt\n",
    "from torchvision import datasets\n",
    "from torch.utils.data import DataLoader\n",
    "import numpy as np\n",
    "from torch.utils.tensorboard import SummaryWriter"
   ]
  },
  {
   "cell_type": "markdown",
   "metadata": {},
   "source": [
    "## Load the Dataset\n",
    "\n",
    "Specify your transforms as a list if you intend to .\n",
    "The transforms module is already loaded as `transforms`.\n",
    "\n",
    "MNIST is fortunately included in the torchvision module.\n",
    "Then, you can create your dataset using the `MNIST` object from `torchvision.datasets` ([the documentation is available here](https://pytorch.org/vision/stable/datasets.html#mnist)).\n",
    "Make sure to specify `download=True`! \n",
    "\n",
    "Once your dataset is created, you'll also need to define a `DataLoader` from the `torch.utils.data` module for both the train and the test set."
   ]
  },
  {
   "cell_type": "code",
   "execution_count": 2,
   "metadata": {},
   "outputs": [
    {
     "name": "stderr",
     "output_type": "stream",
     "text": [
      "/opt/conda/lib/python3.7/site-packages/torchvision/datasets/mnist.py:498: UserWarning: The given NumPy array is not writable, and PyTorch does not support non-writable tensors. This means writing to this tensor will result in undefined behavior. You may want to copy the array to protect its data or make it writable before converting it to a tensor. This type of warning will be suppressed for the rest of this program. (Triggered internally at  ../torch/csrc/utils/tensor_numpy.cpp:178.)\n",
      "  return torch.from_numpy(parsed.astype(m[2], copy=False)).view(*s)\n"
     ]
    }
   ],
   "source": [
    "dataloader_train=torch.utils.data.DataLoader(datasets.MNIST('../mnist_data', \n",
    "                                                          download=True, \n",
    "                                                          train=True,\n",
    "                                                          transform=transforms.ToTensor()))\n",
    "\n",
    "\n",
    "dataloader_no_train=torch.utils.data.DataLoader(datasets.MNIST('../mnist_data', \n",
    "                                                          download=True, \n",
    "                                                          train=False,\n",
    "                                                          transform=transforms.ToTensor()))"
   ]
  },
  {
   "cell_type": "code",
   "execution_count": 37,
   "metadata": {},
   "outputs": [],
   "source": [
    "def get_mean_std(dataloader):\n",
    "\n",
    "    mean=np.array([x[0].mean() for x in dataloader]).mean()\n",
    "    std=np.array([x[0].std() for x in dataloader]).std()\n",
    "    \n",
    "    return mean,std"
   ]
  },
  {
   "cell_type": "code",
   "execution_count": 57,
   "metadata": {},
   "outputs": [],
   "source": [
    "# download and transform train dataset\n",
    "train_loader = torch.utils.data.DataLoader(datasets.MNIST('../mnist_data', \n",
    "                                                          download=True, \n",
    "                                                          train=True,\n",
    "                                                          transform=transforms.Compose([\n",
    "                                                              transforms.ToTensor(), # first, convert image to PyTorch tensor\n",
    "                                                              transforms.Normalize(get_mean_std(dataloader_train)[0],\n",
    "                                                                                   get_mean_std(dataloader_train)[1]\n",
    "                                                                                   ,inplace=True) # normalize inputs\n",
    "                                                          ])), \n",
    "                                           batch_size=64, \n",
    "                                           shuffle=True)\n",
    "\n",
    "# download and transform test dataset\n",
    "test_loader = torch.utils.data.DataLoader(datasets.MNIST('../mnist_data', \n",
    "                                                          download=True, \n",
    "                                                          train=False,\n",
    "                                                          transform=transforms.Compose([\n",
    "                                                              transforms.ToTensor(), # first, convert image to PyTorch tensor\n",
    "                                                              transforms.Normalize(get_mean_std(dataloader_train)[0],\n",
    "                                                                                   get_mean_std(dataloader_train)[1]\n",
    "                                                                                   ,inplace=True) # normalize inputs\n",
    "                                                          ])), \n",
    "                                           batch_size=64, \n",
    "                                           shuffle=True)"
   ]
  },
  {
   "cell_type": "code",
   "execution_count": null,
   "metadata": {},
   "outputs": [],
   "source": []
  },
  {
   "cell_type": "markdown",
   "metadata": {},
   "source": [
    "## Justify your preprocessing\n",
    "\n",
    "I just used auto augment to reduce the likelyhood of overfitting "
   ]
  },
  {
   "cell_type": "markdown",
   "metadata": {},
   "source": [
    "## Explore the Dataset\n",
    "Using matplotlib, numpy, and torch, explore the dimensions of your data.\n",
    "\n",
    "You can view images using the `show5` function defined below – it takes a data loader as an argument.\n",
    "Remember that normalized images will look really weird to you! You may want to try changing your transforms to view images.\n",
    "Typically using no transforms other than `toTensor()` works well for viewing – but not as well for training your network.\n",
    "If `show5` doesn't work, go back and check your code for creating your data loaders and your training/test sets."
   ]
  },
  {
   "cell_type": "code",
   "execution_count": 58,
   "metadata": {},
   "outputs": [],
   "source": [
    "## This cell contains a function for showing 5 images from a dataloader – DO NOT CHANGE THE CONTENTS! ##\n",
    "def show5(img_loader):\n",
    "    dataiter = iter(img_loader)\n",
    "    \n",
    "    batch = next(dataiter)\n",
    "    labels = batch[1][0:5]\n",
    "    images = batch[0][0:5]\n",
    "    for i in range(5):\n",
    "        print(int(labels[i].detach()))\n",
    "    \n",
    "        image = images[i].numpy()\n",
    "        #print(images[i])\n",
    "        #print(image.mode)\n",
    "        plt.imshow(image.T.squeeze().T)\n",
    "        plt.show()"
   ]
  },
  {
   "cell_type": "code",
   "execution_count": 59,
   "metadata": {},
   "outputs": [
    {
     "name": "stdout",
     "output_type": "stream",
     "text": [
      "6\n"
     ]
    },
    {
     "data": {
      "image/png": "[encoded data removed]",
      "text/plain": [
       "<Figure size 432x288 with 1 Axes>"
      ]
     },
     "metadata": {
      "needs_background": "light"
     },
     "output_type": "display_data"
    },
    {
     "name": "stdout",
     "output_type": "stream",
     "text": [
      "0\n"
     ]
    },
    {
     "data": {
      "image/png": "[encoded data removed]",
      "text/plain": [
       "<Figure size 432x288 with 1 Axes>"
      ]
     },
     "metadata": {
      "needs_background": "light"
     },
     "output_type": "display_data"
    },
    {
     "name": "stdout",
     "output_type": "stream",
     "text": [
      "0\n"
     ]
    },
    {
     "data": {
      "image/png": "[encoded data removed]",
      "text/plain": [
       "<Figure size 432x288 with 1 Axes>"
      ]
     },
     "metadata": {
      "needs_background": "light"
     },
     "output_type": "display_data"
    },
    {
     "name": "stdout",
     "output_type": "stream",
     "text": [
      "5\n"
     ]
    },
    {
     "data": {
      "image/png": "[encoded data removed]",
      "text/plain": [
       "<Figure size 432x288 with 1 Axes>"
      ]
     },
     "metadata": {
      "needs_background": "light"
     },
     "output_type": "display_data"
    },
    {
     "name": "stdout",
     "output_type": "stream",
     "text": [
      "1\n"
     ]
    },
    {
     "data": {
      "image/png": "[encoded data removed]",
      "text/plain": [
       "<Figure size 432x288 with 1 Axes>"
      ]
     },
     "metadata": {
      "needs_background": "light"
     },
     "output_type": "display_data"
    }
   ],
   "source": [
    "# Explore data\n",
    "show5(test_loader)"
   ]
  },
  {
   "cell_type": "markdown",
   "metadata": {},
   "source": [
    "## Build your Neural Network\n",
    "Using the layers in `torch.nn` (which has been imported as `nn`) and the `torch.nn.functional` module (imported as `F`), construct a neural network based on the parameters of the dataset.\n",
    "Use any architecture you like. \n",
    "\n",
    "*Note*: If you did not flatten your tensors in your transforms or as part of your preprocessing and you are using only `Linear` layers, make sure to use the `Flatten` layer in your network!"
   ]
  },
  {
   "cell_type": "code",
   "execution_count": 60,
   "metadata": {},
   "outputs": [],
   "source": [
    "# Define the class for your neural network\n",
    "class Net(nn.Module):\n",
    "    def __init__(self):\n",
    "        super().__init__()\n",
    "        self.activation = F.relu\n",
    "        self.dropout = nn.Dropout(0.2) \n",
    "        self.layer1 = nn.Linear(28*28,128)\n",
    "        self.layer2 = nn.Linear(128,64)\n",
    "        self.layer3 = nn.Linear(64,10)\n",
    "\n",
    "\n",
    "    def forward(self, x):\n",
    "        x = torch.flatten(x, 1) # flatten all dimensions except batch\n",
    "        x = self.dropout(x)\n",
    "        x = self.activation(self.layer1(x))\n",
    "        x = self.dropout(x)\n",
    "        x = self.activation(self.layer2(x))\n",
    "        x = self.dropout(x)\n",
    "       \n",
    "        return self.layer3(x)\n",
    "\n"
   ]
  },
  {
   "cell_type": "markdown",
   "metadata": {},
   "source": [
    "## Running your Neural Network\n",
    "Use whatever method you like to train your neural network, and ensure you record the average loss at each epoch. \n",
    "Don't forget to use `torch.device()` and the `.to()` method for both your model and your data if you are using GPU!\n",
    "\n",
    "If you want to print your loss **during** each epoch, you can use the `enumerate` function and print the loss after a set number of batches. 250 batches works well for most people!"
   ]
  },
  {
   "cell_type": "code",
   "execution_count": 65,
   "metadata": {
    "scrolled": false
   },
   "outputs": [
    {
     "name": "stdout",
     "output_type": "stream",
     "text": [
      "Epoch 1 training accuracy: 56.69% training loss: 0.37931\n",
      "Epoch 1 validation accuracy: 60.79% validation loss: 0.15498\n",
      "Epoch 2 training accuracy: 59.44% training loss: 0.24474\n",
      "Epoch 2 validation accuracy: 61.04% validation loss: 0.13053\n",
      "Epoch 3 training accuracy: 59.80% training loss: 0.22111\n",
      "Epoch 3 validation accuracy: 61.43% validation loss: 0.11778\n",
      "Epoch 4 training accuracy: 60.32% training loss: 0.19994\n",
      "Epoch 4 validation accuracy: 61.48% validation loss: 0.12227\n",
      "Epoch 5 training accuracy: 60.45% training loss: 0.19130\n",
      "Epoch 5 validation accuracy: 61.83% validation loss: 0.10577\n",
      "Epoch 6 training accuracy: 60.56% training loss: 0.18772\n",
      "Epoch 6 validation accuracy: 61.68% validation loss: 0.11142\n",
      "Epoch 7 training accuracy: 60.63% training loss: 0.18351\n",
      "Epoch 7 validation accuracy: 61.75% validation loss: 0.10272\n",
      "Epoch 8 training accuracy: 60.75% training loss: 0.17821\n",
      "Epoch 8 validation accuracy: 61.70% validation loss: 0.11630\n",
      "Epoch 9 training accuracy: 60.77% training loss: 0.17317\n",
      "Epoch 9 validation accuracy: 61.68% validation loss: 0.10912\n",
      "Epoch 10 training accuracy: 60.83% training loss: 0.17021\n",
      "Epoch 10 validation accuracy: 61.87% validation loss: 0.10112\n",
      "Epoch 11 training accuracy: 61.00% training loss: 0.16563\n",
      "Epoch 11 validation accuracy: 61.81% validation loss: 0.11390\n",
      "Epoch 12 training accuracy: 60.95% training loss: 0.16685\n",
      "Epoch 12 validation accuracy: 61.72% validation loss: 0.11563\n",
      "Epoch 13 training accuracy: 60.97% training loss: 0.16716\n",
      "Epoch 13 validation accuracy: 61.90% validation loss: 0.09887\n",
      "Epoch 14 training accuracy: 61.14% training loss: 0.15720\n",
      "Epoch 14 validation accuracy: 61.90% validation loss: 0.10873\n",
      "Epoch 15 training accuracy: 61.07% training loss: 0.16099\n",
      "Epoch 15 validation accuracy: 61.83% validation loss: 0.10435\n",
      "Epoch 16 training accuracy: 61.19% training loss: 0.15909\n",
      "Epoch 16 validation accuracy: 61.89% validation loss: 0.10197\n",
      "Epoch 17 training accuracy: 61.20% training loss: 0.15792\n",
      "Epoch 17 validation accuracy: 61.89% validation loss: 0.10065\n",
      "Epoch 18 training accuracy: 61.20% training loss: 0.15377\n",
      "Epoch 18 validation accuracy: 61.94% validation loss: 0.10518\n",
      "Epoch 19 training accuracy: 61.29% training loss: 0.15471\n",
      "Epoch 19 validation accuracy: 61.86% validation loss: 0.10958\n",
      "Epoch 20 training accuracy: 61.18% training loss: 0.15234\n",
      "Epoch 20 validation accuracy: 61.94% validation loss: 0.11491\n"
     ]
    }
   ],
   "source": [
    "def training(num_epochs,optimizer,criterion,net,train_loader,test_loader ):\n",
    "    \n",
    "    #check for GPU \n",
    "    if torch.cuda.is_available():\n",
    "        # move tensor to CUDA\n",
    "        device = torch.device(\"cuda\")\n",
    "        \n",
    "    else:\n",
    "        device = torch.device(\"cpu\")\n",
    "\n",
    "    net=net.to(device) \n",
    "    \n",
    "    #tensorboard!!!\n",
    "    #writer = SummaryWriter()\n",
    "    \n",
    "    #keep track of train and val loss:\n",
    "    train_loss_history = list()\n",
    "    val_loss_history = list()\n",
    "\n",
    "    \n",
    "    for epoch in range(num_epochs):\n",
    "        \n",
    "        net.train() # TRAIN MODE\n",
    "\n",
    "        train_loss = 0.0\n",
    "        train_correct = 0\n",
    "\n",
    "        for i, data in enumerate(train_loader):\n",
    "\n",
    "            # data is a list of [inputs, labels]\n",
    "            inputs, labels = data\n",
    "            inputs, labels = inputs.to(device), labels.to(device) \n",
    "\n",
    "\n",
    "            # Get the outputs of your model and compute your loss\n",
    "            outputs = net(inputs)\n",
    "            loss = criterion(outputs,labels)\n",
    "            \n",
    "            # Zero out the gradients of the optimizer\n",
    "            optimizer.zero_grad()\n",
    "\n",
    "            # Compute the loss gradient using the backward method and have the optimizer take a step\n",
    "            loss.backward()\n",
    "          \n",
    "            \n",
    "            # actually updates the weights, taking into account the learn rate and momentum:\n",
    "            optimizer.step()\n",
    "\n",
    "            # Compute the accuracy and print the accuracy and loss\n",
    "            _, preds = torch.max(outputs.data, 1)\n",
    "            train_correct += (preds == labels).sum().item()\n",
    "            train_loss += loss.item()\n",
    "\n",
    "        print(f'Epoch {epoch + 1} training accuracy: {train_correct/len(train_loader):.2f}% training loss: {train_loss/len(train_loader):.5f}')\n",
    "        train_loss_history.append(train_loss/len(train_loader))\n",
    "\n",
    "        #writer.close()\n",
    "        \n",
    "        # Validation step \n",
    "        val_loss = 0.0\n",
    "        val_correct = 0\n",
    "        net.eval()\n",
    "        for inputs, labels in test_loader:\n",
    "\n",
    "            inputs, labels = inputs.to(device), labels.to(device)\n",
    "\n",
    "            outputs = net(inputs).to(device)\n",
    "            loss = criterion(outputs, labels)\n",
    "\n",
    "            _, preds = torch.max(outputs.data, 1)\n",
    "            val_correct += (preds == labels).sum().item()\n",
    "            val_loss += loss.item()\n",
    "            \n",
    "\n",
    "        print(f'Epoch {epoch + 1} validation accuracy: {val_correct/len(test_loader):.2f}% validation loss: {val_loss/len(test_loader):.5f}')\n",
    "        val_loss_history.append(val_loss/len(test_loader))\n",
    "\n",
    "\n",
    "    return net, train_loss_history, val_loss_history\n",
    "\n",
    "net = Net()\n",
    "optimizer = optim.Adam(net.parameters(), lr= 0.002)\n",
    "criterion = nn.CrossEntropyLoss()\n",
    "\n",
    "\n",
    "    \n",
    "net, train_loss_history, val_loss_history = training(20,\n",
    "                                                     optimizer,\n",
    "                                                     criterion,\n",
    "                                                     net,\n",
    "                                                     train_loader,\n",
    "                                                     test_loader)    \n",
    "    "
   ]
  },
  {
   "cell_type": "markdown",
   "metadata": {},
   "source": [
    "Plot the training loss (and validation loss/accuracy, if recorded)."
   ]
  },
  {
   "cell_type": "code",
   "execution_count": 46,
   "metadata": {},
   "outputs": [],
   "source": [
    "#! tensorboard --logdir=/path/to/log/directory"
   ]
  },
  {
   "cell_type": "code",
   "execution_count": 66,
   "metadata": {},
   "outputs": [
    {
     "data": {
      "image/png": "[encoded data removed]",
      "text/plain": [
       "<Figure size 432x288 with 1 Axes>"
      ]
     },
     "metadata": {
      "needs_background": "light"
     },
     "output_type": "display_data"
    }
   ],
   "source": [
    "# Plot the training and validation loss history\n",
    "plt.plot(train_loss_history, label=\"Training Loss\")\n",
    "plt.plot(val_loss_history, label=\"Validation Loss\")\n",
    "plt.legend()\n",
    "plt.show()"
   ]
  },
  {
   "cell_type": "markdown",
   "metadata": {},
   "source": [
    "## Testing your model\n",
    "Using the previously created `DataLoader` for the test set, compute the percentage of correct predictions using the highest probability prediction. \n",
    "\n",
    "If your accuracy is over 90%, great work, but see if you can push a bit further! \n",
    "If your accuracy is under 90%, you'll need to make improvements.\n",
    "Go back and check your model architecture, loss function, and optimizer to make sure they're appropriate for an image classification task."
   ]
  },
  {
   "cell_type": "code",
   "execution_count": 11,
   "metadata": {},
   "outputs": [],
   "source": [
    "## YOUR CODE HERE ##"
   ]
  },
  {
   "cell_type": "markdown",
   "metadata": {},
   "source": [
    "## Improving your model\n",
    "\n",
    "Once your model is done training, try tweaking your hyperparameters and training again below to improve your accuracy on the test set!"
   ]
  },
  {
   "cell_type": "code",
   "execution_count": 12,
   "metadata": {},
   "outputs": [],
   "source": [
    "## YOUR CODE HERE ##"
   ]
  },
  {
   "cell_type": "markdown",
   "metadata": {},
   "source": [
    "## Saving your model\n",
    "Using `torch.save`, save your model for future loading."
   ]
  },
  {
   "cell_type": "code",
   "execution_count": 13,
   "metadata": {},
   "outputs": [],
   "source": [
    "## YOUR CODE HERE ##"
   ]
  }
 ],
 "metadata": {
  "kernelspec": {
   "display_name": "Python 3",
   "language": "python",
   "name": "python3"
  },
  "language_info": {
   "codemirror_mode": {
    "name": "ipython",
    "version": 3
   },
   "file_extension": ".py",
   "mimetype": "text/x-python",
   "name": "python",
   "nbconvert_exporter": "python",
   "pygments_lexer": "ipython3",
   "version": "3.7.6"
  }
 },
 "nbformat": 4,
 "nbformat_minor": 4
}
